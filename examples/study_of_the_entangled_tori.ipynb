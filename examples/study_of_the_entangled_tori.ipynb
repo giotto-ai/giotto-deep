{
 "cells": [
  {
   "cell_type": "markdown",
   "metadata": {},
   "source": [
    "# Study of entangled tori"
   ]
  },
  {
   "cell_type": "code",
   "execution_count": null,
   "metadata": {},
   "outputs": [],
   "source": [
    "%reload_ext autoreload\n",
    "%autoreload 2\n",
    "%matplotlib inline\n",
    "\n",
    "import numpy as np\n",
    "import matplotlib.pyplot as plt\n",
    "import torch\n",
    "import pandas as pd\n",
    "\n",
    "from sklearn import datasets\n",
    "import plotly.express as px\n",
    "\n",
    "from gdeep.create_nets import Net, SaveLayerOutput\n",
    "from gdeep.create_nets import train_classification_nn, Layers_list, get_activations\n",
    "from gdeep.plotting import  persistence_diagrams_of_activations, plot_persistence_diagrams, betti_plot_layers\n",
    "from gdeep.plotting import plot_PCA_activations\n",
    "from gdeep.create_data import make_torus_point_cloud2, Rotation\n",
    "\n",
    "from fastai.tabular.all import *\n",
    "\n",
    "import pathlib\n",
    "\n",
    "\n",
    "\n",
    "from gtda.diagrams import BettiCurve\n",
    "\n",
    "from gtda.plotting import plot_betti_surfaces"
   ]
  },
  {
   "cell_type": "markdown",
   "metadata": {},
   "source": [
    "## Generate 9x2 entangled tori dataset"
   ]
  },
  {
   "cell_type": "code",
   "execution_count": null,
   "metadata": {
    "scrolled": true
   },
   "outputs": [],
   "source": [
    "data1 , labels1 = make_torus_point_cloud2(0, 100, 0.1, Rotation(0,1,0), [0,0,0], 2.,.5)\n",
    "data2 , labels2 = make_torus_point_cloud2(1, 100, 0.1, Rotation(1,2,180), [2,0,0], 2.,.5)\n",
    "\n",
    "\n",
    "translations = [[i*10,j*10,k*10] for i in range(3) for j in range(3) for k in range(3)]\n",
    "\n",
    "tori_entangled = np.append(data1,data2,axis=0)\n",
    "labels = np.append(labels1,labels2)\n",
    "\n",
    "data = tori_entangled\n",
    "l = labels\n",
    "        \n",
    "for t in translations:\n",
    "    if t != [0,0,0]:\n",
    "        data = np.append(data, np.add(tori_entangled,t),axis=0)\n",
    "        l = np.append(l, labels)\n",
    "    \n",
    "    \n",
    "df_fix=pd.DataFrame(data[0::50,:],columns=[\"x\",\"y\",\"z\"])\n",
    "df_fix[\"label\"]=l[0::50]\n",
    "px.scatter_3d(df_fix,x=\"x\",y=\"y\",z=\"z\",color=\"label\")"
   ]
  },
  {
   "cell_type": "markdown",
   "metadata": {},
   "source": [
    "## Initialize and train model or directly import it"
   ]
  },
  {
   "cell_type": "code",
   "execution_count": null,
   "metadata": {},
   "outputs": [],
   "source": [
    "model = Net(0, arch = [3,15,15,15,15,15,15,15,15,15,15]) \n",
    "model.load_state_dict(torch.load(pathlib.Path('model_tori').absolute()))\n",
    "model"
   ]
  },
  {
   "cell_type": "markdown",
   "metadata": {},
   "source": [
    "## Initialize hooks to save layer activation"
   ]
  },
  {
   "cell_type": "code",
   "execution_count": null,
   "metadata": {},
   "outputs": [],
   "source": [
    "# consider the neural network circle_detect_nn\n",
    "circle_detect_nn = model\n",
    "\n",
    "# List layers of circle_detect_nn\n",
    "print(f'Layers of circle_detect_nn: {list(circle_detect_nn.modules())[1:]}')\n",
    "\n",
    "layer_1 = list(circle_detect_nn.modules())[1]\n",
    "\n",
    "\n",
    "# creat a layer for the first layer\n",
    "# for that we first have to creat an instance of the class\n",
    "# SaveLayerOutput we want to save the activations into\n",
    "\n",
    "activations_layer_1_saver = SaveLayerOutput()\n",
    "\n",
    "# add the __call__ function of activations_layer_1_saver\n",
    "# as a hook to layer_1\n",
    "# note activations_layer_1_saver() is the same as\n",
    "# activations_layer_1_saver.__call__()\n",
    "\n",
    "handle_layer_1 = layer_1.register_forward_hook(activations_layer_1_saver)\n",
    "\n",
    "# switch to eval mode\n",
    "circle_detect_nn.eval()\n",
    "\n",
    "# make a forward pass\n",
    "circle_detect_nn.forward(x_cat=None, x_cont=torch.tensor([[1,1,1]]).float())\n",
    "\n",
    "# get activation of layer 1\n",
    "print(f'activation layer 1: {activations_layer_1_saver.get_outputs()[-1]}')\n",
    "print(f'activation layer 1 shape: {activations_layer_1_saver.get_outputs()[-1].shape}')\n",
    "\n",
    "# remove handle of layer 1\n",
    "handle_layer_1.remove()"
   ]
  },
  {
   "cell_type": "markdown",
   "metadata": {},
   "source": [
    "## Compute and visualize the PCA, PD and Betti Surfaces of the image of the data in each layers"
   ]
  },
  {
   "cell_type": "code",
   "execution_count": null,
   "metadata": {},
   "outputs": [],
   "source": [
    "# Plot PCA of layerwise activations for the training set\n",
    "\n",
    "\n",
    "plot_PCA_activations(model, data[0::10,:], l[0::10], n_components=3)\n"
   ]
  },
  {
   "cell_type": "code",
   "execution_count": null,
   "metadata": {},
   "outputs": [],
   "source": [
    "\n",
    "# Persistence diagrams of layerwise activations for 1/50 of the training set\n",
    "\n",
    "persistence_diagrams = persistence_diagrams_of_activations(model, tori_entangled[0::50,:], homology_dimensions=[0,1,2], max_edge_length = 10, k = -1)\n",
    "\n"
   ]
  },
  {
   "cell_type": "code",
   "execution_count": null,
   "metadata": {},
   "outputs": [],
   "source": [
    "plot_persistence_diagrams(persistence_diagrams)"
   ]
  },
  {
   "cell_type": "code",
   "execution_count": null,
   "metadata": {},
   "outputs": [],
   "source": [
    "betti_plot_layers(persistence_diagrams)"
   ]
  },
  {
   "cell_type": "markdown",
   "metadata": {},
   "source": [
    "# Train your own model if needed"
   ]
  },
  {
   "cell_type": "code",
   "execution_count": null,
   "metadata": {},
   "outputs": [],
   "source": [
    "learn = train_classification_nn(nn=Net(0,[3,15,15,15,15,15,15,15,15,15,15]), X=data, y=l, lr=0.001, n_epochs=3, bs=32)"
   ]
  },
  {
   "cell_type": "code",
   "execution_count": null,
   "metadata": {},
   "outputs": [],
   "source": [
    "\n",
    "model = learn.model\n"
   ]
  },
  {
   "cell_type": "markdown",
   "metadata": {},
   "source": [
    "## Save your own model after training"
   ]
  },
  {
   "cell_type": "code",
   "execution_count": null,
   "metadata": {},
   "outputs": [],
   "source": [
    "torch.save(learn.model.state_dict(), pathlib.Path('model_tori_new').absolute())"
   ]
  },
  {
   "cell_type": "code",
   "execution_count": null,
   "metadata": {},
   "outputs": [],
   "source": []
  },
  {
   "cell_type": "code",
   "execution_count": null,
   "metadata": {},
   "outputs": [],
   "source": []
  }
 ],
 "metadata": {
  "kernelspec": {
   "display_name": "Python 3",
   "language": "python",
   "name": "python3"
  },
  "language_info": {
   "codemirror_mode": {
    "name": "ipython",
    "version": 3
   },
   "file_extension": ".py",
   "mimetype": "text/x-python",
   "name": "python",
   "nbconvert_exporter": "python",
   "pygments_lexer": "ipython3",
   "version": "3.7.4"
  }
 },
 "nbformat": 4,
 "nbformat_minor": 2
}
