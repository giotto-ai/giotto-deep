{
 "cells": [
  {
   "attachments": {},
   "cell_type": "markdown",
   "metadata": {},
   "source": [
    "# Basic tutorial: translation\n",
    "#### Author: Matteo Caorsi\n",
    "\n",
    "This short tutorial provides you with the basic functionalities of *giotto-deep* API.\n",
    "\n",
    "The example described in this tutorial is the one of translation following a sequence-to-sequence transformer model: all the details can be found [here](https://papers.nips.cc/paper/2017/file/3f5ee243547dee91fbd053c1c4a845aa-Paper.pdf). \n",
    "\n",
    "## Probabilistic modelling\n",
    "\n",
    "The basic idea would be to predict the target sentence $y$ given source sentence $x$, more precisely you want to predict $P(y|x)$. But this is very hard to do directly, since one would need a lot of data to have a reasonable estimate of this conditional probability.\n",
    "Hence, one would rather factor the probability using the chain rule, then predict each factor:\n",
    "\n",
    "$$\n",
    "P(y_1,...,y_N|x) = \\prod_i^N P(y_i|y_{<i},x)\n",
    "$$\n",
    "\n",
    "In the NLP language, this corresponds to predicting the next token of the output sequence given the already predicted tokens and the input sequence.\n",
    "\n",
    "## Scope\n",
    "\n",
    "You will build your own transformer model, train it, and use it to translate German sentences to English!\n",
    "\n",
    "Here is an example of what a translation task is about:\n",
    "\n",
    " - German sentence: 'Ich mag Pizza.'\n",
    " - English translation: 'I like pizza.'\n",
    "\n",
    "## The plan for this tutorial\n",
    "\n",
    "The main steps of the tutorial are the following:\n",
    " 1. Creation of a dataset\n",
    " 2. Preprocessing of the dataset\n",
    " 3. Creation of a model\n",
    " 4. Definition of the metrics and losses\n",
    " 5. Trainining of the model\n",
    " 6. Using the model to translate some sentences\n",
    " 7. (extra) Extract some features of the network for interpretability analysis\n",
    " \n",
    "Let's start with importing the required libraries!"
   ]
  },
  {
   "cell_type": "code",
   "execution_count": 1,
   "metadata": {},
   "outputs": [
    {
     "name": "stdout",
     "output_type": "stream",
     "text": [
      "No TPUs...\n"
     ]
    }
   ],
   "source": [
    "%reload_ext autoreload\n",
    "%autoreload 2\n",
    "%matplotlib inline\n",
    "import copy\n",
    "import sys\n",
    "\n",
    "import numpy as np\n",
    "import torch\n",
    "from torch import nn\n",
    "from gtda.diagrams import BettiCurve\n",
    "from gtda.plotting import plot_betti_surfaces\n",
    "from torchtext.data.utils import get_tokenizer\n",
    "from torch.utils.data.sampler import SubsetRandomSampler\n",
    "from torch.nn import Transformer\n",
    "from torch.optim import Adam, SparseAdam, SGD\n",
    "import torchtext\n",
    "\n",
    "# our special guests!\n",
    "from gdeep.models import FFNet\n",
    "from gdeep.visualization import persistence_diagrams_of_activations\n",
    "from gdeep.data.datasets import DatasetBuilder\n",
    "from gdeep.trainer import Trainer\n",
    "from gdeep.data import TransformingDataset\n",
    "from gdeep.data.preprocessors import TokenizerTranslation\n",
    "from gdeep.data.datasets import DataLoaderBuilder\n",
    "from gdeep.models import ModelExtractor\n",
    "from gdeep.analysis.interpretability import Interpreter\n",
    "from gdeep.visualization import Visualiser\n",
    "from gdeep.search import GiottoSummaryWriter\n"
   ]
  },
  {
   "cell_type": "markdown",
   "metadata": {},
   "source": [
    "# Initialize the tensorboard writer\n",
    "\n",
    "In order to analyse the results of your models, you need to start tensorboard. All data about the model, the training, the hyperparameters... will be stored there.\n",
    "\n",
    "## How to start tensorboard\n",
    "On the terminal, move inside the `/examples` folder. There run the following command:\n",
    "\n",
    "```\n",
    "tensorboard --logdir=runs\n",
    "```\n",
    "\n",
    "Then go [here](http://localhost:6006/) after the training step to visualise all the results."
   ]
  },
  {
   "cell_type": "code",
   "execution_count": 2,
   "metadata": {},
   "outputs": [],
   "source": [
    "writer = GiottoSummaryWriter()\n"
   ]
  },
  {
   "attachments": {},
   "cell_type": "markdown",
   "metadata": {},
   "source": [
    "# Create your dataset\n",
    "\n",
    "We propose to use the [Multi30k](https://github.com/multi30k/dataset) dataset: in giotto-deep it is very easy to import datasets! It is enough to write:\n",
    "\n",
    "```python\n",
    "# initialise the builder with the dataset name\n",
    "bd = DatasetBuilder(name=\"Multi30k\", convert_to_map_dataset=True)\n",
    "\n",
    "# build the datasets\n",
    "ds_tr_str, ds_val_str, ds_ts_str = bd.build()\n",
    "\n",
    "```\n",
    "\n",
    "### Disclaimer: the next cell is a temporary fix to a third-party download link issue."
   ]
  },
  {
   "cell_type": "code",
   "execution_count": 3,
   "metadata": {},
   "outputs": [],
   "source": [
    "# temporary cell, due to a failure of third party link: we are required to download the dataset manually!\n",
    "# yout would expect to simply run:\n",
    "# bd = DatasetBuilder(name=\"Multi30k\", convert_to_map_dataset=True)\n",
    "\n",
    "# and then\n",
    "# ds_tr_str, ds_val_str, ds_ts_str = bd.build()\n",
    "\n",
    "# instead we are doing this mess:\n",
    "\n",
    "import os\n",
    "import gzip\n",
    "import shutil\n",
    "from typing import List\n",
    "\n",
    "from torchdata.datapipes.iter import FileOpener, FileLister, StreamReader\n",
    "from torch.utils.data import Dataset\n",
    "\n",
    "from gdeep.utility import DEFAULT_DOWNLOAD_DIR\n",
    "\n",
    "\n",
    "base_path = os.path.join(DEFAULT_DOWNLOAD_DIR, \"Multi30k\")\n",
    "url_de = 'https://github.com/multi30k/dataset/raw/master/data/task1/raw/train.de.gz'\n",
    "url_en = 'https://github.com/multi30k/dataset/raw/master/data/task1/raw/train.en.gz'\n",
    "torchtext.utils.download_from_url(url_en, path=os.path.join(base_path, \"train.en.gz\"))\n",
    "torchtext.utils.download_from_url(url_de, path=os.path.join(base_path, \"train.de.gz\"))\n",
    "url_de = 'https://github.com/multi30k/dataset/raw/master/data/task1/raw/val.de.gz'\n",
    "url_en = 'https://github.com/multi30k/dataset/raw/master/data/task1/raw/val.en.gz'\n",
    "torchtext.utils.download_from_url(url_en, path=os.path.join(base_path, \"val.en.gz\"))\n",
    "torchtext.utils.download_from_url(url_de, path=os.path.join(base_path, \"val.de.gz\"))\n",
    "url_de = 'https://github.com/multi30k/dataset/raw/master/data/task1/raw/test_2016_flickr.de.gz'\n",
    "url_en = 'https://github.com/multi30k/dataset/raw/master/data/task1/raw/test_2016_flickr.en.gz'\n",
    "torchtext.utils.download_from_url(url_en, path=os.path.join(base_path, \"test.en.gz\"))\n",
    "torchtext.utils.download_from_url(url_de, path=os.path.join(base_path, \"test.de.gz\"))\n",
    "\n",
    "# we store the data in the RAM\n",
    "in_memory_data = []\n",
    "\n",
    "\n",
    "for item in [\"train.de\", \"train.en\", \"val.de\", \"val.en\", \"test.de\", \"test.en\"]:\n",
    "    with gzip.open(os.path.join(base_path, item+\".gz\"), 'rb') as f_in:\n",
    "        with open(os.path.join(base_path, item), 'wb') as f_out:\n",
    "            shutil.copyfileobj(f_in, f_out)\n",
    "\n",
    "    with open(os.path.join(base_path, item), 'r', encoding=\"utf8\") as f:\n",
    "        in_memory_data.append(f.read())\n",
    "\n",
    "assert len(in_memory_data) == 6\n",
    "assert len(in_memory_data[0].split(\"\\n\")) == len(in_memory_data[1].split(\"\\n\"))\n",
    "assert len(in_memory_data[2].split(\"\\n\")) == len(in_memory_data[3].split(\"\\n\"))\n",
    "\n",
    "class MyMulti30k(Dataset):\n",
    "    \"\"\"Temporary Multi30k Dataset.\"\"\"\n",
    "\n",
    "    def __init__(self, data_tuple: List[List[str]]) -> None:\n",
    "        \"\"\"\n",
    "        Args:\n",
    "            data:\n",
    "                list of data\n",
    "        \"\"\"\n",
    "        \n",
    "        assert len(data_tuple) == 2, \"expected 2 lists corresponding to the two languages\"\n",
    "        self.data = list(zip(data_tuple[0].split(\"\\n\"), data_tuple[1].split(\"\\n\")))\n",
    "\n",
    "\n",
    "    def __len__(self):\n",
    "        return len(self.data)\n",
    "\n",
    "    def __getitem__(self, idx):\n",
    "        return self.data[idx]\n",
    "    \n",
    "ds_tr_str, ds_val_str, ds_ts_str = MyMulti30k(in_memory_data[:2]), MyMulti30k(in_memory_data[2:4]), MyMulti30k(in_memory_data[4:6])"
   ]
  },
  {
   "cell_type": "markdown",
   "metadata": {},
   "source": [
    "The dataset contains a list of pairs of sentences: the German sentence and its English translation."
   ]
  },
  {
   "cell_type": "code",
   "execution_count": 4,
   "metadata": {},
   "outputs": [
    {
     "name": "stdout",
     "output_type": "stream",
     "text": [
      "Before preprocessing: \n",
      " ('Zwei junge weiße Männer sind im Freien in der Nähe vieler Büsche.', 'Two young, White males are outside near many bushes.')\n"
     ]
    }
   ],
   "source": [
    "print(\"Before preprocessing: \\n\", ds_tr_str[0])\n"
   ]
  },
  {
   "cell_type": "markdown",
   "metadata": {},
   "source": [
    "## Required preprocessing\n",
    "\n",
    "Neural networks cannot direcly deal with strings. We have first to preprocess the dataset in three main ways:\n",
    " 1. Tokenise each string into its words (and maybe adjust each word to remove plurals, interjections, capital letters...)\n",
    " 2. Build a vocabulary out of these tokens (each modified word of point a. is called a token)\n",
    " 3. Embed each token into a vector, so that each sentence becomes a list of vectors\n",
    "\n",
    "The **first two steps** are performed by the `TokenizerTranslation` class. The embedding will be added directly to the model (see below)."
   ]
  },
  {
   "cell_type": "code",
   "execution_count": 5,
   "metadata": {},
   "outputs": [
    {
     "name": "stdout",
     "output_type": "stream",
     "text": [
      "/home/mehdi/Documents/giotto-deep/venv/lib/python3.8/site-packages/torch/cuda/__init__.py:497: UserWarning: Can't initialize NVML\n",
      "  warnings.warn(\"Can't initialize NVML\")\n",
      "Collecting de-core-news-sm==3.7.0\n",
      "  Downloading https://github.com/explosion/spacy-models/releases/download/de_core_news_sm-3.7.0/de_core_news_sm-3.7.0-py3-none-any.whl (14.6 MB)\n",
      "\u001b[2K     \u001b[38;2;114;156;31m━━━━━━━━━━━━━━━━━━━━━━━━━━━━━━━━━━━━━━━━\u001b[0m \u001b[32m14.6/14.6 MB\u001b[0m \u001b[31m33.8 MB/s\u001b[0m eta \u001b[36m0:00:00\u001b[0mm eta \u001b[36m0:00:01\u001b[0m0:01\u001b[0m:01\u001b[0m\n",
      "\u001b[?25hRequirement already satisfied: spacy<3.8.0,>=3.7.0 in /home/mehdi/Documents/giotto-deep/venv/lib/python3.8/site-packages (from de-core-news-sm==3.7.0) (3.7.2)\n",
      "Requirement already satisfied: spacy-legacy<3.1.0,>=3.0.11 in /home/mehdi/Documents/giotto-deep/venv/lib/python3.8/site-packages (from spacy<3.8.0,>=3.7.0->de-core-news-sm==3.7.0) (3.0.12)\n",
      "Requirement already satisfied: spacy-loggers<2.0.0,>=1.0.0 in /home/mehdi/Documents/giotto-deep/venv/lib/python3.8/site-packages (from spacy<3.8.0,>=3.7.0->de-core-news-sm==3.7.0) (1.0.5)\n",
      "Requirement already satisfied: murmurhash<1.1.0,>=0.28.0 in /home/mehdi/Documents/giotto-deep/venv/lib/python3.8/site-packages (from spacy<3.8.0,>=3.7.0->de-core-news-sm==3.7.0) (1.0.10)\n",
      "Requirement already satisfied: cymem<2.1.0,>=2.0.2 in /home/mehdi/Documents/giotto-deep/venv/lib/python3.8/site-packages (from spacy<3.8.0,>=3.7.0->de-core-news-sm==3.7.0) (2.0.8)\n",
      "Requirement already satisfied: preshed<3.1.0,>=3.0.2 in /home/mehdi/Documents/giotto-deep/venv/lib/python3.8/site-packages (from spacy<3.8.0,>=3.7.0->de-core-news-sm==3.7.0) (3.0.9)\n",
      "Requirement already satisfied: thinc<8.3.0,>=8.1.8 in /home/mehdi/Documents/giotto-deep/venv/lib/python3.8/site-packages (from spacy<3.8.0,>=3.7.0->de-core-news-sm==3.7.0) (8.2.1)\n",
      "Requirement already satisfied: wasabi<1.2.0,>=0.9.1 in /home/mehdi/Documents/giotto-deep/venv/lib/python3.8/site-packages (from spacy<3.8.0,>=3.7.0->de-core-news-sm==3.7.0) (1.1.2)\n",
      "Requirement already satisfied: srsly<3.0.0,>=2.4.3 in /home/mehdi/Documents/giotto-deep/venv/lib/python3.8/site-packages (from spacy<3.8.0,>=3.7.0->de-core-news-sm==3.7.0) (2.4.8)\n",
      "Requirement already satisfied: catalogue<2.1.0,>=2.0.6 in /home/mehdi/Documents/giotto-deep/venv/lib/python3.8/site-packages (from spacy<3.8.0,>=3.7.0->de-core-news-sm==3.7.0) (2.0.10)\n",
      "Requirement already satisfied: weasel<0.4.0,>=0.1.0 in /home/mehdi/Documents/giotto-deep/venv/lib/python3.8/site-packages (from spacy<3.8.0,>=3.7.0->de-core-news-sm==3.7.0) (0.3.4)\n",
      "Requirement already satisfied: typer<0.10.0,>=0.3.0 in /home/mehdi/Documents/giotto-deep/venv/lib/python3.8/site-packages (from spacy<3.8.0,>=3.7.0->de-core-news-sm==3.7.0) (0.9.0)\n",
      "Requirement already satisfied: smart-open<7.0.0,>=5.2.1 in /home/mehdi/Documents/giotto-deep/venv/lib/python3.8/site-packages (from spacy<3.8.0,>=3.7.0->de-core-news-sm==3.7.0) (6.4.0)\n",
      "Requirement already satisfied: tqdm<5.0.0,>=4.38.0 in /home/mehdi/Documents/giotto-deep/venv/lib/python3.8/site-packages (from spacy<3.8.0,>=3.7.0->de-core-news-sm==3.7.0) (4.66.1)\n",
      "Requirement already satisfied: requests<3.0.0,>=2.13.0 in /home/mehdi/Documents/giotto-deep/venv/lib/python3.8/site-packages (from spacy<3.8.0,>=3.7.0->de-core-news-sm==3.7.0) (2.31.0)\n",
      "Requirement already satisfied: pydantic!=1.8,!=1.8.1,<3.0.0,>=1.7.4 in /home/mehdi/Documents/giotto-deep/venv/lib/python3.8/site-packages (from spacy<3.8.0,>=3.7.0->de-core-news-sm==3.7.0) (2.5.2)\n",
      "Requirement already satisfied: jinja2 in /home/mehdi/Documents/giotto-deep/venv/lib/python3.8/site-packages (from spacy<3.8.0,>=3.7.0->de-core-news-sm==3.7.0) (3.1.2)\n",
      "Requirement already satisfied: setuptools in /home/mehdi/Documents/giotto-deep/venv/lib/python3.8/site-packages (from spacy<3.8.0,>=3.7.0->de-core-news-sm==3.7.0) (56.0.0)\n",
      "Requirement already satisfied: packaging>=20.0 in /home/mehdi/Documents/giotto-deep/venv/lib/python3.8/site-packages (from spacy<3.8.0,>=3.7.0->de-core-news-sm==3.7.0) (23.2)\n",
      "Requirement already satisfied: langcodes<4.0.0,>=3.2.0 in /home/mehdi/Documents/giotto-deep/venv/lib/python3.8/site-packages (from spacy<3.8.0,>=3.7.0->de-core-news-sm==3.7.0) (3.3.0)\n",
      "Requirement already satisfied: numpy>=1.15.0 in /home/mehdi/Documents/giotto-deep/venv/lib/python3.8/site-packages (from spacy<3.8.0,>=3.7.0->de-core-news-sm==3.7.0) (1.23.3)\n",
      "Requirement already satisfied: annotated-types>=0.4.0 in /home/mehdi/Documents/giotto-deep/venv/lib/python3.8/site-packages (from pydantic!=1.8,!=1.8.1,<3.0.0,>=1.7.4->spacy<3.8.0,>=3.7.0->de-core-news-sm==3.7.0) (0.6.0)\n",
      "Requirement already satisfied: pydantic-core==2.14.5 in /home/mehdi/Documents/giotto-deep/venv/lib/python3.8/site-packages (from pydantic!=1.8,!=1.8.1,<3.0.0,>=1.7.4->spacy<3.8.0,>=3.7.0->de-core-news-sm==3.7.0) (2.14.5)\n",
      "Requirement already satisfied: typing-extensions>=4.6.1 in /home/mehdi/Documents/giotto-deep/venv/lib/python3.8/site-packages (from pydantic!=1.8,!=1.8.1,<3.0.0,>=1.7.4->spacy<3.8.0,>=3.7.0->de-core-news-sm==3.7.0) (4.8.0)\n",
      "Requirement already satisfied: charset-normalizer<4,>=2 in /home/mehdi/Documents/giotto-deep/venv/lib/python3.8/site-packages (from requests<3.0.0,>=2.13.0->spacy<3.8.0,>=3.7.0->de-core-news-sm==3.7.0) (3.3.2)\n",
      "Requirement already satisfied: idna<4,>=2.5 in /home/mehdi/Documents/giotto-deep/venv/lib/python3.8/site-packages (from requests<3.0.0,>=2.13.0->spacy<3.8.0,>=3.7.0->de-core-news-sm==3.7.0) (3.6)\n",
      "Requirement already satisfied: urllib3<3,>=1.21.1 in /home/mehdi/Documents/giotto-deep/venv/lib/python3.8/site-packages (from requests<3.0.0,>=2.13.0->spacy<3.8.0,>=3.7.0->de-core-news-sm==3.7.0) (2.1.0)\n",
      "Requirement already satisfied: certifi>=2017.4.17 in /home/mehdi/Documents/giotto-deep/venv/lib/python3.8/site-packages (from requests<3.0.0,>=2.13.0->spacy<3.8.0,>=3.7.0->de-core-news-sm==3.7.0) (2023.11.17)\n",
      "Requirement already satisfied: blis<0.8.0,>=0.7.8 in /home/mehdi/Documents/giotto-deep/venv/lib/python3.8/site-packages (from thinc<8.3.0,>=8.1.8->spacy<3.8.0,>=3.7.0->de-core-news-sm==3.7.0) (0.7.11)\n",
      "Requirement already satisfied: confection<1.0.0,>=0.0.1 in /home/mehdi/Documents/giotto-deep/venv/lib/python3.8/site-packages (from thinc<8.3.0,>=8.1.8->spacy<3.8.0,>=3.7.0->de-core-news-sm==3.7.0) (0.1.4)\n",
      "Requirement already satisfied: click<9.0.0,>=7.1.1 in /home/mehdi/Documents/giotto-deep/venv/lib/python3.8/site-packages (from typer<0.10.0,>=0.3.0->spacy<3.8.0,>=3.7.0->de-core-news-sm==3.7.0) (8.1.7)\n",
      "Requirement already satisfied: cloudpathlib<0.17.0,>=0.7.0 in /home/mehdi/Documents/giotto-deep/venv/lib/python3.8/site-packages (from weasel<0.4.0,>=0.1.0->spacy<3.8.0,>=3.7.0->de-core-news-sm==3.7.0) (0.16.0)\n",
      "Requirement already satisfied: MarkupSafe>=2.0 in /home/mehdi/Documents/giotto-deep/venv/lib/python3.8/site-packages (from jinja2->spacy<3.8.0,>=3.7.0->de-core-news-sm==3.7.0) (2.1.3)\n",
      "\u001b[38;5;2m✔ Download and installation successful\u001b[0m\n",
      "You can now load the package via spacy.load('de_core_news_sm')\n"
     ]
    },
    {
     "name": "stderr",
     "output_type": "stream",
     "text": [
      "/home/mehdi/Documents/giotto-deep/venv/lib/python3.8/site-packages/torch/cuda/__init__.py:497: UserWarning:\n",
      "\n",
      "Can't initialize NVML\n",
      "\n"
     ]
    },
    {
     "name": "stdout",
     "output_type": "stream",
     "text": [
      "After the preprocessing: \n",
      " ([tensor([  18,   82,  254,   28,   84,   19,   91,    4,   13,  109, 5494, 3158,\n",
      "           1,    0,    0,    0,    0,    0,    0,    0,    0,    0,    0,    0,\n",
      "           0,    0,    0,    0,    0,    0,    0,    0,    0,    0,    0,    0,\n",
      "           0,    0,    0,    0,    0,    0,    0,    0]), tensor([  13,   20,   12,   21,  766,   14,   53,   76,  194, 1297,    2,    0,\n",
      "           0,    0,    0,    0,    0,    0,    0,    0,    0,    0,    0,    0,\n",
      "           0,    0,    0,    0,    0,    0,    0,    0,    0,    0,    0,    0,\n",
      "           0,    0,    0,    0])], tensor([  13,   20,   12,   21,  766,   14,   53,   76,  194, 1297,    2,    0,\n",
      "           0,    0,    0,    0,    0,    0,    0,    0,    0,    0,    0,    0,\n",
      "           0,    0,    0,    0,    0,    0,    0,    0,    0,    0,    0,    0,\n",
      "           0,    0,    0,    0]))\n"
     ]
    }
   ],
   "source": [
    "\n",
    "# install german tokenizer\n",
    "!{sys.executable} -m spacy download de_core_news_sm\n",
    "\n",
    "# get the german tokenizer\n",
    "de_tokenizer = get_tokenizer('spacy', language='de_core_news_sm')\n",
    "\n",
    "# initialise the giotto-deep tokenizer\n",
    "tokenizer = TokenizerTranslation(tokenizer=de_tokenizer)\n",
    "\n",
    "# fit the tokenizer to the dataset (note that te vocabularies will be automatically built in this case\n",
    "tokenizer.fit_to_dataset(ds_tr_str)\n",
    "\n",
    "# prprocess the dataset\n",
    "transformed_textds = tokenizer.attach_transform_to_dataset(ds_tr_str)\n",
    "transformed_textts = tokenizer.attach_transform_to_dataset(ds_val_str)\n",
    "\n",
    "print(\"After the preprocessing: \\n\", transformed_textds[0])\n",
    "\n",
    "# subsample the training and test datasets\n",
    "train_indices = list(range(64*2))\n",
    "test_indices = list(range(64*1))\n",
    "\n",
    "dl_tr, dl_val, _ = DataLoaderBuilder((transformed_textds, \n",
    "                                      transformed_textts)).build(({\"batch_size\":16, \n",
    "                                                                   \"sampler\":SubsetRandomSampler(train_indices)},{\"batch_size\":16, \n",
    "                                                                                                                  \"sampler\":SubsetRandomSampler(test_indices)}\n",
    "                                                                 ))\n"
   ]
  },
  {
   "attachments": {},
   "cell_type": "markdown",
   "metadata": {},
   "source": [
    "As you can see, now the data is not in string format anymore: rather, the sentences have each been transformed to a `torch.Tensor` of type `long`. Each of these numbers represent the index in the vocabulary of the associated token."
   ]
  },
  {
   "cell_type": "markdown",
   "metadata": {},
   "source": [
    "## Define your model\n",
    "\n",
    "The model we play with is a simple transformer model with two embedding layers (for the German and English sentence) followed by a single transformer layer. \n",
    "\n",
    "The input of this model is assumed to be a tensors. The tensor is of the form `shape(transformed_textds[0][0])`. \n",
    "\n",
    "Of course, as in all neural networks, data are inputted to the model  in batches: hence, the first dimension will be the batch size, then a dimension to choose the source or target sentence, and the last dimension will be about the actual tokenisation."
   ]
  },
  {
   "cell_type": "code",
   "execution_count": 6,
   "metadata": {},
   "outputs": [],
   "source": [
    "# my simple transformer model\n",
    "class TranslationTransformer(nn.Module):\n",
    "    def __init__(self, src_vocab_size, tgt_vocab_size, embed_dim):\n",
    "        super(TranslationTransformer, self).__init__()\n",
    "        self.transformer = Transformer(\n",
    "            d_model=embed_dim,\n",
    "            nhead=2,\n",
    "            num_encoder_layers=1,\n",
    "            num_decoder_layers=1,\n",
    "            dim_feedforward=512,\n",
    "            dropout=0.1,\n",
    "        )\n",
    "        self.embedding_src = nn.Embedding(src_vocab_size, embed_dim, sparse=True)\n",
    "        self.embedding_tgt = nn.Embedding(tgt_vocab_size, embed_dim, sparse=True)\n",
    "        self.generator = nn.Linear(embed_dim, tgt_vocab_size)\n",
    "\n",
    "    def forward(self, src, tgt):\n",
    "        src_emb = self.embedding_src(src).permute(1, 0, 2)\n",
    "        tgt_emb = self.embedding_tgt(tgt).permute(1, 0, 2)\n",
    "        self.outs = self.transformer(src_emb, tgt_emb).permute(1, 0, 2)\n",
    "        logits = self.generator(self.outs)\n",
    "        return logits\n",
    "\n",
    "    def encode(self, src, src_mask):\n",
    "        \"\"\"this method is used only at the inference step.\n",
    "        This method runs the data through the encoder of the\n",
    "        transformer\"\"\"\n",
    "        return self.transformer.encoder(self.embedding_src(src), src_mask)\n",
    "\n",
    "    def decode(self, tgt, memory, tgt_mask):\n",
    "        \"\"\"this method is used only at the inference step\n",
    "        This method runs the data through the decoder of the\n",
    "        transformer\"\"\"\n",
    "        return self.transformer.decoder(self.embedding_tgt(tgt), memory, tgt_mask)\n"
   ]
  },
  {
   "cell_type": "markdown",
   "metadata": {},
   "source": [
    "We initialise the model as follows:\n",
    " - we need to set the maximum vocabulary size to fix the `Embedding` architectures\n",
    " - we need to set the embedding dimension\n",
    " - initialise the model class with the needed parameters."
   ]
  },
  {
   "cell_type": "code",
   "execution_count": 7,
   "metadata": {},
   "outputs": [
    {
     "name": "stdout",
     "output_type": "stream",
     "text": [
      "This is our model: \n",
      " TranslationTransformer(\n",
      "  (transformer): Transformer(\n",
      "    (encoder): TransformerEncoder(\n",
      "      (layers): ModuleList(\n",
      "        (0): TransformerEncoderLayer(\n",
      "          (self_attn): MultiheadAttention(\n",
      "            (out_proj): NonDynamicallyQuantizableLinear(in_features=64, out_features=64, bias=True)\n",
      "          )\n",
      "          (linear1): Linear(in_features=64, out_features=512, bias=True)\n",
      "          (dropout): Dropout(p=0.1, inplace=False)\n",
      "          (linear2): Linear(in_features=512, out_features=64, bias=True)\n",
      "          (norm1): LayerNorm((64,), eps=1e-05, elementwise_affine=True)\n",
      "          (norm2): LayerNorm((64,), eps=1e-05, elementwise_affine=True)\n",
      "          (dropout1): Dropout(p=0.1, inplace=False)\n",
      "          (dropout2): Dropout(p=0.1, inplace=False)\n",
      "        )\n",
      "      )\n",
      "      (norm): LayerNorm((64,), eps=1e-05, elementwise_affine=True)\n",
      "    )\n",
      "    (decoder): TransformerDecoder(\n",
      "      (layers): ModuleList(\n",
      "        (0): TransformerDecoderLayer(\n",
      "          (self_attn): MultiheadAttention(\n",
      "            (out_proj): NonDynamicallyQuantizableLinear(in_features=64, out_features=64, bias=True)\n",
      "          )\n",
      "          (multihead_attn): MultiheadAttention(\n",
      "            (out_proj): NonDynamicallyQuantizableLinear(in_features=64, out_features=64, bias=True)\n",
      "          )\n",
      "          (linear1): Linear(in_features=64, out_features=512, bias=True)\n",
      "          (dropout): Dropout(p=0.1, inplace=False)\n",
      "          (linear2): Linear(in_features=512, out_features=64, bias=True)\n",
      "          (norm1): LayerNorm((64,), eps=1e-05, elementwise_affine=True)\n",
      "          (norm2): LayerNorm((64,), eps=1e-05, elementwise_affine=True)\n",
      "          (norm3): LayerNorm((64,), eps=1e-05, elementwise_affine=True)\n",
      "          (dropout1): Dropout(p=0.1, inplace=False)\n",
      "          (dropout2): Dropout(p=0.1, inplace=False)\n",
      "          (dropout3): Dropout(p=0.1, inplace=False)\n",
      "        )\n",
      "      )\n",
      "      (norm): LayerNorm((64,), eps=1e-05, elementwise_affine=True)\n",
      "    )\n",
      "  )\n",
      "  (embedding_src): Embedding(19211, 64, sparse=True)\n",
      "  (embedding_tgt): Embedding(10207, 64, sparse=True)\n",
      "  (generator): Linear(in_features=64, out_features=10207, bias=True)\n",
      ")\n"
     ]
    }
   ],
   "source": [
    "src_vocab_size = len(tokenizer.vocabulary)\n",
    "tgt_vocab_size = len(tokenizer.vocabulary_target)\n",
    "emb_dim = 64\n",
    "\n",
    "model = TranslationTransformer(src_vocab_size, tgt_vocab_size, emb_dim)\n",
    "X = next(iter(dl_tr))\n",
    "# a datum\n",
    "# assert model(X[0]).argmax(2).shape == X[1].shape\n",
    "print(\"This is our model: \\n\", model)\n"
   ]
  },
  {
   "cell_type": "markdown",
   "metadata": {},
   "source": [
    "## Define the loss function\n",
    "\n",
    "This loss function is an adapted version of the Cross Entropy Loss for the transformer architecture we just defined."
   ]
  },
  {
   "cell_type": "code",
   "execution_count": 8,
   "metadata": {},
   "outputs": [],
   "source": [
    "def loss_fn(logits, tgt_out):\n",
    "    cel = nn.CrossEntropyLoss()\n",
    "    return cel(logits.reshape(-1, logits.shape[-1]), tgt_out.reshape(-1))\n"
   ]
  },
  {
   "attachments": {},
   "cell_type": "markdown",
   "metadata": {},
   "source": [
    "And here we are: all is set up and we are ready to train the model.\n",
    "\n",
    "# Trainig the model\n",
    "\n",
    "In giotto deep all is done via a `Trainer`, meaning a class that takes care of the training and validation steps, storing the intermediate results to tensorboard, using (or not) cross validation, ... basically everything you need."
   ]
  },
  {
   "cell_type": "code",
   "execution_count": 9,
   "metadata": {},
   "outputs": [
    {
     "name": "stdout",
     "output_type": "stream",
     "text": [
      "Epoch 1\n",
      "-------------------------------\n",
      "IN INNER TRAINING LOOP\n",
      "AAAAAAAAAAAH torch.Size([16, 44]) torch.Size([16, 40]) torch.Size([16, 40]) torch.Size([16, 40, 10207])\n",
      "AAAAAAAAAAAH torch.Size([16, 44]) torch.Size([16, 40]) torch.Size([16, 40]) torch.Size([16, 40, 10207]) \n",
      "AAAAAAAAAAAH torch.Size([16, 44]) torch.Size([16, 40]) torch.Size([16, 40]) torch.Size([16, 40, 10207]) \n",
      "AAAAAAAAAAAH torch.Size([16, 44]) torch.Size([16, 40]) torch.Size([16, 40]) torch.Size([16, 40, 10207]) \n",
      "AAAAAAAAAAAH torch.Size([16, 44]) torch.Size([16, 40]) torch.Size([16, 40]) torch.Size([16, 40, 10207])   \n",
      "AAAAAAAAAAAH torch.Size([16, 44]) torch.Size([16, 40]) torch.Size([16, 40]) torch.Size([16, 40, 10207])     \n",
      "AAAAAAAAAAAH torch.Size([6, 44]) torch.Size([6, 40]) torch.Size([6, 40]) torch.Size([6, 40, 10207])         \n",
      "Epoch training loss: 8.055317 \tEpoch training accuracy: 954.46%                                            \n",
      "Time taken for this epoch: 0.00s\n",
      "Learning rate value: 0.01000000\n",
      "DANS VALIDATION\n",
      "TA MERE\n",
      "JE PELURE torch.Size([16, 44]) torch.Size([16, 40]) torch.Size([16, 40]) torch.Size([16, 40, 10207])\n",
      "aLED2 torch.Size([16, 1, 10207])\n",
      "JE PELURE torch.Size([10, 44]) torch.Size([10, 40]) torch.Size([10, 40]) torch.Size([10, 40, 10207])\n",
      "aLED2 torch.Size([10, 1, 10207])\n",
      "Validation results: \n",
      " accuracy: 2687.50%,                 Avg loss: 3.248631 \n",
      "\n",
      "Epoch 2\n",
      "-------------------------------\n",
      "IN INNER TRAINING LOOP\n",
      "AAAAAAAAAAAH torch.Size([16, 44]) torch.Size([16, 40]) torch.Size([16, 40]) torch.Size([16, 40, 10207])\n",
      "AAAAAAAAAAAH torch.Size([16, 44]) torch.Size([16, 40]) torch.Size([16, 40]) torch.Size([16, 40, 10207])    \n",
      "AAAAAAAAAAAH torch.Size([16, 44]) torch.Size([16, 40]) torch.Size([16, 40]) torch.Size([16, 40, 10207])     \n"
     ]
    },
    {
     "name": "stderr",
     "output_type": "stream",
     "text": [
      "/home/mehdi/Documents/giotto-deep/gdeep/trainer/trainer.py:668: UserWarning:\n",
      "\n",
      "Cannot store data in the PR curve\n",
      "\n"
     ]
    },
    {
     "name": "stdout",
     "output_type": "stream",
     "text": [
      "AAAAAAAAAAAH torch.Size([16, 44]) torch.Size([16, 40]) torch.Size([16, 40]) torch.Size([16, 40, 10207])    \n",
      "AAAAAAAAAAAH torch.Size([16, 44]) torch.Size([16, 40]) torch.Size([16, 40]) torch.Size([16, 40, 10207])     \n",
      "AAAAAAAAAAAH torch.Size([16, 44]) torch.Size([16, 40]) torch.Size([16, 40]) torch.Size([16, 40, 10207])    \n",
      "AAAAAAAAAAAH torch.Size([6, 44]) torch.Size([6, 40]) torch.Size([6, 40]) torch.Size([6, 40, 10207])         \n",
      "Epoch training loss: 5.753362 \tEpoch training accuracy: 2706.25%                                           \n",
      "Time taken for this epoch: 0.00s\n",
      "Learning rate value: 0.01000000\n",
      "DANS VALIDATION\n",
      "TA MERE\n",
      "JE PELURE torch.Size([16, 44]) torch.Size([16, 40]) torch.Size([16, 40]) torch.Size([16, 40, 10207])\n",
      "aLED2 torch.Size([16, 1, 10207])\n",
      "JE PELURE torch.Size([10, 44]) torch.Size([10, 40]) torch.Size([10, 40]) torch.Size([10, 40, 10207])\n",
      "aLED2 torch.Size([10, 1, 10207])\n",
      "Validation results: \n",
      " accuracy: 2687.50%,                 Avg loss: 2.166215 \n",
      "\n"
     ]
    },
    {
     "data": {
      "text/plain": [
       "(2.16621470451355, 2687.5)"
      ]
     },
     "execution_count": 9,
     "metadata": {},
     "output_type": "execute_result"
    }
   ],
   "source": [
    "# prepare a pipeline class with the model, dataloaders loss_fn and tensorboard writer\n",
    "pipe = Trainer(model, (dl_tr,), loss_fn, writer)\n",
    "\n",
    "# train the model\n",
    "pipe.train(\n",
    "    optimizer=SGD,\n",
    "    n_epochs=2,\n",
    "    cross_validation=False,\n",
    "    optimizers_param={\"lr\": 0.01},\n",
    "    dataloaders_param={\"batch_size\": 16},\n",
    ")\n"
   ]
  },
  {
   "attachments": {},
   "cell_type": "markdown",
   "metadata": {},
   "source": [
    "## Translation!\n",
    "\n",
    "So the model has been trained and now it is time to translate a sentence. Let's take the following example:"
   ]
  },
  {
   "cell_type": "code",
   "execution_count": 10,
   "metadata": {},
   "outputs": [
    {
     "name": "stdout",
     "output_type": "stream",
     "text": [
      "Zwei junge weiße Männer sind im Freien in der Nähe vieler Büsche. \n",
      " Two young, White males are outside near many bushes.\n"
     ]
    }
   ],
   "source": [
    "de, en = next(iter(ds_tr_str))\n",
    "print(de, \"\\n\", en)\n"
   ]
  },
  {
   "cell_type": "markdown",
   "metadata": {},
   "source": [
    "\n",
    "Get the vocabulary and numericize the German sentence"
   ]
  },
  {
   "cell_type": "code",
   "execution_count": 11,
   "metadata": {},
   "outputs": [
    {
     "data": {
      "text/plain": [
       "tensor([  18,   82,  254,   28,   84,   19,   91,    4,   13,  109, 5494, 3158,\n",
       "           1,    0,    0,    0,    0,    0,    0,    0,    0,    0,    0,    0,\n",
       "           0,    0,    0,    0,    0,    0,    0,    0,    0,    0,    0,    0,\n",
       "           0,    0,    0,    0,    0,    0,    0,    0])"
      ]
     },
     "execution_count": 11,
     "metadata": {},
     "output_type": "execute_result"
    }
   ],
   "source": [
    "voc = tokenizer.vocabulary\n",
    "# sent = str.lower(de).split()\n",
    "# de_sentence = list(map(voc.__getitem__,sent))\n",
    "de_sentence, en_sentence = tokenizer((de, en))[0]\n",
    "de_sentence\n"
   ]
  },
  {
   "attachments": {},
   "cell_type": "markdown",
   "metadata": {},
   "source": [
    "We need to build a couple of auxiliary functions to help us translate. The logic is to use the transformer encoder and decoder layers directly. Let's have a quick reminder of how things work:\n",
    "\n",
    "<img src=\"./images/translation_transformer.png\" alt=\"drawing\" width=\"400\" class=\"center\"/>\n",
    "\n",
    "The above drawing is a good representation of our architecture. During training, the English and German sentence are inputted from \"below\". Then, once the model is used in inference, there is an important change ongoing. Basically, the full input sentence (the German one in our case) is given as input to the encoder: the output (the probablities) are then greedily transformed into a single token: that token is then used in the \"Outputs\" below: together with the Input sentence, the next word is predicted (at the top) and used again as input in the \"Outputs\" below. Hence, word after word, you get the translation of the original sentence."
   ]
  },
  {
   "cell_type": "code",
   "execution_count": 12,
   "metadata": {},
   "outputs": [
    {
     "name": "stdout",
     "output_type": "stream",
     "text": [
      "German sentence:  Zwei junge weiße Männer sind im Freien in der Nähe vieler Büsche.\n",
      "English translation:  <unk> <unk> <unk> <unk> <unk> <unk> <unk> <unk> <unk> <unk> <unk> <unk> <unk> <unk> <unk> <unk> <unk> <unk> <unk> <unk> <unk> <unk> <unk> <unk> <unk> <unk> <unk> <unk> <unk> <unk> <unk> <unk> <unk> <unk> <unk> <unk> <unk> <unk> <unk> <unk> <unk> <unk> <unk> <unk>\n"
     ]
    }
   ],
   "source": [
    "from gdeep.utility import DEVICE\n",
    "\n",
    "pad_item = 0\n",
    "max_len = len(en_sentence)\n",
    "\n",
    "\n",
    "def greedy_decode(model, src, src_mask, max_len):\n",
    "    \"\"\"function to generate output sequence using greedy algorithm\"\"\"\n",
    "\n",
    "    memory = model.encode(src, src_mask)\n",
    "    # ys = torch.ones(1, 1).fill_(start_symbol).type(torch.long)\n",
    "    ys = torch.ones(*src.shape).fill_(pad_item).type(torch.long).to(DEVICE)\n",
    "    for i in range(max_len - 1):\n",
    "        # print(\"before:\", ys)\n",
    "        out = model.decode(ys, memory, None)\n",
    "        out = out.transpose(0, 1)\n",
    "        prob = model.generator(out[:, -1])\n",
    "        next_word = torch.argmax(prob, dim=1)\n",
    "        next_word = next_word[i + 1].item()  # the shift\n",
    "        ys[0, i] = next_word\n",
    "        # print(\"after:\", ys)\n",
    "    return ys\n",
    "\n",
    "\n",
    "def translate(model: torch.nn.Module, dl_ts_item):\n",
    "    \"\"\"actual function to translate input sentence into target language\"\"\"\n",
    "    model.eval()\n",
    "    voc = tokenizer.vocabulary_target\n",
    "    src = dl_ts_item.to(DEVICE)\n",
    "    num_tokens = src.shape[1]\n",
    "    src_mask = None\n",
    "    tgt_tokens_tensor = greedy_decode(model, src, src_mask, max_len).flatten().to(DEVICE)\n",
    "    tgt_tokens = tgt_tokens_tensor.tolist()\n",
    "    # print(tgt_tokens)\n",
    "    return \" \".join(voc.lookup_tokens(tgt_tokens))\n",
    "\n",
    "\n",
    "# translation!\n",
    "print(\"German sentence: \", de)\n",
    "print(\"English translation: \", translate(pipe.model, de_sentence.reshape(1, -1)))\n"
   ]
  },
  {
   "attachments": {},
   "cell_type": "markdown",
   "metadata": {},
   "source": [
    "## Extra: interpretability\n",
    "\n",
    "In the next section we show you how to run some simple intepretability tools, like plotting the attention matrices of the transformer. \n",
    "\n",
    "The first step is to extract the values of the attention activations given an input `x`."
   ]
  },
  {
   "cell_type": "code",
   "execution_count": 13,
   "metadata": {},
   "outputs": [
    {
     "name": "stdout",
     "output_type": "stream",
     "text": [
      "Let's extract the activations of the first attention layer:  transformer.encoder.layers.0.self_attn.in_proj_weight\n"
     ]
    }
   ],
   "source": [
    "from gdeep.models import ModelExtractor\n",
    "\n",
    "# the candidate datum\n",
    "x = [de_sentence.view(1,-1).to(DEVICE), en_sentence.view(1,-1).to(DEVICE)]  # only one pair of sentences, shapd as a batch of dim = 1\n",
    "\n",
    "# the model extractor\n",
    "ex = ModelExtractor(pipe.model, loss_fn)\n",
    "\n",
    "# getting the names of the layers\n",
    "layer_names = ex.get_layers_param().keys()\n",
    "\n",
    "print(\"Let's extract the activations of the first attention layer: \", next(iter(layer_names)))\n",
    "self_attention = ex.get_activations(x)[:2]\n"
   ]
  },
  {
   "cell_type": "code",
   "execution_count": 14,
   "metadata": {},
   "outputs": [],
   "source": [
    "# let's plot the tensor! First, load th visualizer\n",
    "vs = Visualiser(pipe)\n",
    "vs.plot_self_attention(self_attention, tokenizer.tokenizer(en), de_tokenizer(de), figsize=(20, 20));\n"
   ]
  },
  {
   "cell_type": "markdown",
   "metadata": {},
   "source": [
    "If you have just run this notebooks, you would most likely have gotten some funny nonsensical answer: consider that you trained a very simple model on a very small subset of data for only two epochs.\n",
    "\n",
    "## Challenge\n",
    "\n",
    "Starting from this simple notebook, do you think you can enlarge the dataset, the model, the training epochs and get a decent translator? Good luck!"
   ]
  },
  {
   "cell_type": "markdown",
   "metadata": {},
   "source": [
    "# (WIP) Huggingface transformers\n",
    "\n",
    "If you are actually interested in a pretrained transformers that works directly with a few lines of code, `giotto-deep` supports Hugginface transformers.\n",
    "\n",
    "The next section explains how to run one such transformer."
   ]
  },
  {
   "cell_type": "code",
   "execution_count": 15,
   "metadata": {},
   "outputs": [],
   "source": [
    "# from transformers import ...\n",
    "\n",
    "# take T5\n",
    "\n",
    "# finetune on the Multi30k\n",
    "\n",
    "# go to TB to see the results + screenshot\n"
   ]
  },
  {
   "cell_type": "code",
   "execution_count": null,
   "metadata": {},
   "outputs": [],
   "source": []
  }
 ],
 "metadata": {
  "kernelspec": {
   "display_name": "Python 3 (ipykernel)",
   "language": "python",
   "name": "python3"
  },
  "language_info": {
   "codemirror_mode": {
    "name": "ipython",
    "version": 3
   },
   "file_extension": ".py",
   "mimetype": "text/x-python",
   "name": "python",
   "nbconvert_exporter": "python",
   "pygments_lexer": "ipython3",
   "version": "3.8.16"
  }
 },
 "nbformat": 4,
 "nbformat_minor": 4
}
