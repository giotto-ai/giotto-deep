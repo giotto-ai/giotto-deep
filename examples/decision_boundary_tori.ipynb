{
 "cells": [
  {
   "cell_type": "markdown",
   "metadata": {},
   "source": [
    "# Computation of decision boundary\n",
    "\n",
    "In this short notebook we describe how to use giotto-deep to compute the decision boundary of a classifier.\n",
    "\n",
    "The idea of the algorithm is to use gradient descent to push a certain amount of input poits towards the boundary of the classifier. \n",
    "\n",
    "More formally, we are computing the following:\n",
    "\n",
    "$$ \\frac{\\partial || M(x) - 1/2||^2}{\\partial x}$$\n",
    "\n",
    "where $M$ is the model whose output is the softmax, and $x$ the input. If teh output is $1/2$, it means that the model is undecided between the two classes at hand: this is the decison bounday.\n",
    "\n",
    "## Content\n",
    "\n",
    "This is what we are going to do:\n",
    " 1. build the dataset\n",
    " 2. build and train the model\n",
    " 3. visualise the decison boundary\n",
    " 4. compute the topology of decision boundary\n",
    " 5. (extra) lower level use of the modules"
   ]
  },
  {
   "cell_type": "code",
   "execution_count": null,
   "metadata": {},
   "outputs": [],
   "source": [
    "%reload_ext autoreload\n",
    "%autoreload 2\n",
    "# deep learning\n",
    "import torch\n",
    "from torch.optim import Adam, SGD\n",
    "import numpy as np\n",
    "from torch import nn\n",
    "from gdeep.models import FFNet\n",
    "from gdeep.data.datasets import DatasetBuilder, DataLoaderBuilder\n",
    "from gdeep.trainer import Trainer\n",
    "from torch import autograd\n",
    "\n",
    "# plot\n",
    "import plotly.express as px\n",
    "import pandas as pd\n",
    "from gdeep.search import GiottoSummaryWriter\n",
    "\n",
    "# ML\n",
    "from sklearn.preprocessing import MinMaxScaler\n",
    "from sklearn.datasets import make_blobs\n",
    "from sklearn.metrics import pairwise_distances\n",
    "\n",
    "# TDA\n",
    "from gtda.homology import VietorisRipsPersistence\n",
    "from gtda.plotting import plot_diagram\n"
   ]
  },
  {
   "cell_type": "markdown",
   "metadata": {},
   "source": [
    "## Initialize the tensorboard writer\n",
    "\n",
    "In order to analyse the results of your models, you need to start tensorboard.\n",
    "On the terminal, move inside the `/examples` folder. There run the following command:\n",
    "\n",
    "```\n",
    "tensorboard --logdir=runs\n",
    "```\n",
    "\n",
    "Then go [here](http://localhost:6006/) after the training of your model to see all the visualization results."
   ]
  },
  {
   "cell_type": "code",
   "execution_count": null,
   "metadata": {},
   "outputs": [],
   "source": [
    "writer = GiottoSummaryWriter()"
   ]
  },
  {
   "cell_type": "markdown",
   "metadata": {},
   "source": [
    "## Build datatset\n",
    "\n",
    "We want to test our method on a 3D dataset made of 2 entangled tori: basically, like two consecutive rings in a chain. We expect that the neural network decision boundary has a very non-trivial shape\n"
   ]
  },
  {
   "cell_type": "code",
   "execution_count": null,
   "metadata": {},
   "outputs": [],
   "source": [
    "bd = DatasetBuilder(name=\"DoubleTori\")\n",
    "ds_tr, ds_val, _ = bd.build()\n",
    "# train_indices = list(range(160))\n",
    "dl = DataLoaderBuilder((ds_tr, ds_val))\n",
    "dl_tr, dl_val, dl_ts = dl.build()\n"
   ]
  },
  {
   "cell_type": "markdown",
   "metadata": {},
   "source": [
    "## Train the model\n",
    "\n",
    "In giotto deep, once the model and the datasets are defined, it is a matter of a couple of lines to start the trianing."
   ]
  },
  {
   "cell_type": "code",
   "execution_count": null,
   "metadata": {},
   "outputs": [],
   "source": [
    "# train NN\n",
    "model = FFNet(arch=[3, 10, 10, 2])\n",
    "print(model)\n",
    "pipe = Trainer(model, (dl_tr, dl_ts), nn.CrossEntropyLoss(), writer)\n",
    "pipe.train(SGD, 5, False, {\"lr\": 0.01}, {\"batch_size\": 1})\n"
   ]
  },
  {
   "cell_type": "markdown",
   "metadata": {},
   "source": [
    "## Visualising the decision boundary\n",
    "\n",
    "We are sending to the tensorboard the visualization data: hence, you can explore the different sections to find the different plots there. Note that the interactive 3D decison boundary can be found in the **projector** section."
   ]
  },
  {
   "cell_type": "code",
   "execution_count": null,
   "metadata": {},
   "outputs": [],
   "source": [
    "from gdeep.visualization import Visualiser\n",
    "\n",
    "vs = Visualiser(pipe)\n",
    "vs.plot_interactive_model()\n",
    "db, _, _ = vs.plot_decision_boundary()\n"
   ]
  },
  {
   "cell_type": "markdown",
   "metadata": {},
   "source": [
    "## Topology of decision boundary\n",
    "\n",
    "We chec with Giotto-tda that the topology of the decison boundary:"
   ]
  },
  {
   "cell_type": "code",
   "execution_count": null,
   "metadata": {},
   "outputs": [],
   "source": [
    "# check topology from d_final\n",
    "try:\n",
    "    vr = VietorisRipsPersistence(\n",
    "        collapse_edges=True,\n",
    "        max_edge_length=1,\n",
    "        metric=\"euclidean\",\n",
    "        n_jobs=-1,\n",
    "        homology_dimensions=(0, 1, 2),\n",
    "    )\n",
    "    diag = vr.fit_transform([db])\n",
    "\n",
    "    plot_diagram(diag[0]).show()\n",
    "except ValueError:\n",
    "    print(\"Due to the stocasticity of gnerating the pointts, none of them survided the filtering, and hence ``db`` was empty\")"
   ]
  },
  {
   "cell_type": "markdown",
   "metadata": {},
   "source": [
    "# Extra: lower level use of the modules\n",
    "\n",
    "In this short section, we show how to directly use the functionalities of the decision boundary calculators. You will see how to define the point sampler, initialise it, initialise the boundary coputation and run it."
   ]
  },
  {
   "cell_type": "code",
   "execution_count": null,
   "metadata": {},
   "outputs": [],
   "source": [
    "from gdeep.analysis.decision_boundary import (\n",
    "    QuasihyperbolicDecisionBoundaryCalculator,\n",
    "    UniformlySampledPoint,\n",
    ")\n",
    "\n",
    "n_samples = 100\n",
    "\n",
    "# remove the gradients\n",
    "for param in model.parameters():\n",
    "    param.requires_grad = False\n",
    "\n",
    "# define the point sampler\n",
    "point_sample_generator = UniformlySampledPoint(\n",
    "    [(-2, 4), (-2, 2), (-2, 2), (0, 2 * np.pi), (-1.0, 1.0)], n_samples=n_samples\n",
    ")\n",
    "point_sample_tensor = torch.from_numpy(point_sample_generator()).float()\n",
    "\n",
    "phi = point_sample_tensor[:, -2].reshape(-1, 1)\n",
    "theta = point_sample_tensor[:, -1].reshape(-1, 1)\n",
    "theta = torch.acos(theta)\n",
    "\n",
    "# set up the initial points\n",
    "y0 = torch.cat(\n",
    "    (\n",
    "        torch.sin(theta) * torch.cos(phi),\n",
    "        torch.sin(theta) * torch.sin(phi),\n",
    "        torch.cos(theta),\n",
    "    ),\n",
    "    -1,\n",
    ")\n",
    "\n",
    "# initialise the decision boundary calculator\n",
    "g = QuasihyperbolicDecisionBoundaryCalculator(\n",
    "    model=model,\n",
    "    initial_points=point_sample_tensor[\n",
    "        :, :3\n",
    "    ],  # torch.ones_like(y0).to(dev),#torch.distributions.uniform.Uniform(-10.,10.).sample((n_samples, 3)).to(dev),\n",
    "    initial_vectors=y0,\n",
    "    integrator=None, \n",
    ")\n",
    "\n",
    "# run the computations!\n",
    "g.step(100)\n"
   ]
  },
  {
   "cell_type": "markdown",
   "metadata": {},
   "source": [
    "### Plotting the decision boundary\n",
    "\n",
    "Once points have been moved around, we can filter them out by checking their loss compared to \"1/2\" and only consider points that are very close to the boundary for display."
   ]
  },
  {
   "cell_type": "code",
   "execution_count": null,
   "metadata": {},
   "outputs": [],
   "source": [
    "# get the points that are close to the decison boundary and remove the outliers\n",
    "sample_points_boundary = g.get_filtered_decision_boundary(0.01).detach().cpu().numpy()\n",
    "\n",
    "# add the plot to tensorboard\n",
    "writer.add_embedding(sample_points_boundary, tag=\"Decision boundary of entangled tori\")\n"
   ]
  },
  {
   "cell_type": "code",
   "execution_count": null,
   "metadata": {},
   "outputs": [],
   "source": []
  }
 ],
 "metadata": {
  "kernelspec": {
   "display_name": "Python 3 (ipykernel)",
   "language": "python",
   "name": "python3"
  },
  "language_info": {
   "codemirror_mode": {
    "name": "ipython",
    "version": 3
   },
   "file_extension": ".py",
   "mimetype": "text/x-python",
   "name": "python",
   "nbconvert_exporter": "python",
   "pygments_lexer": "ipython3",
   "version": "3.9.12"
  }
 },
 "nbformat": 4,
 "nbformat_minor": 4
}
